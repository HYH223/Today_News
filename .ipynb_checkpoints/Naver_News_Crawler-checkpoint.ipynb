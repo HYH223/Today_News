{
 "cells": [
  {
   "cell_type": "code",
   "execution_count": 1,
   "metadata": {},
   "outputs": [],
   "source": [
    "import requests\n",
    "from bs4 import BeautifulSoup\n",
    "import pandas as pd"
   ]
  },
  {
   "cell_type": "code",
   "execution_count": 9,
   "metadata": {},
   "outputs": [
    {
     "name": "stdout",
     "output_type": "stream",
     "text": [
      "https://news.naver.com/main/read.nhn?mode=LS2D&mid=shm&sid1=104&sid2=234&oid=009&aid=0004775834\n",
      "https://news.naver.com/main/read.nhn?mode=LS2D&mid=shm&sid1=104&sid2=234&oid=003&aid=0010434831\n",
      "https://news.naver.com/main/read.nhn?mode=LS2D&mid=shm&sid1=104&sid2=234&oid=003&aid=0010434805\n",
      "https://news.naver.com/main/read.nhn?mode=LS2D&mid=shm&sid1=104&sid2=234&oid=421&aid=0005273213\n",
      "https://news.naver.com/main/read.nhn?mode=LS2D&mid=shm&sid1=104&sid2=234&oid=001&aid=0012312587\n",
      "https://news.naver.com/main/read.nhn?mode=LS2D&mid=shm&sid1=104&sid2=234&oid=001&aid=0012312470\n",
      "https://news.naver.com/main/read.nhn?mode=LS2D&mid=shm&sid1=104&sid2=234&oid=023&aid=0003606528\n",
      "https://news.naver.com/main/read.nhn?mode=LS2D&mid=shm&sid1=104&sid2=234&oid=003&aid=0010434233\n",
      "https://news.naver.com/main/read.nhn?mode=LS2D&mid=shm&sid1=104&sid2=234&oid=421&aid=0005272602\n",
      "https://news.naver.com/main/read.nhn?mode=LS2D&mid=shm&sid1=104&sid2=234&oid=001&aid=0012312113\n",
      "https://news.naver.com/main/read.nhn?mode=LS2D&mid=shm&sid1=104&sid2=234&oid=001&aid=0012312106\n",
      "https://news.naver.com/main/read.nhn?mode=LS2D&mid=shm&sid1=104&sid2=234&oid=001&aid=0012312057\n",
      "https://news.naver.com/main/read.nhn?mode=LS2D&mid=shm&sid1=104&sid2=234&oid=421&aid=0005272166\n",
      "https://news.naver.com/main/read.nhn?mode=LS2D&mid=shm&sid1=104&sid2=234&oid=003&aid=0010433843\n",
      "https://news.naver.com/main/read.nhn?mode=LS2D&mid=shm&sid1=104&sid2=234&oid=003&aid=0010433790\n",
      "https://news.naver.com/main/read.nhn?mode=LS2D&mid=shm&sid1=104&sid2=234&oid=023&aid=0003606413\n",
      "https://news.naver.com/main/read.nhn?mode=LS2D&mid=shm&sid1=104&sid2=234&oid=001&aid=0012311696\n",
      "https://news.naver.com/main/read.nhn?mode=LS2D&mid=shm&sid1=104&sid2=234&oid=001&aid=0012311690\n"
     ]
    }
   ],
   "source": [
    "# def URL_Crawler(sid1):\n",
    "URL = \"https://news.naver.com/main/list.nhn?mode=LS2D&mid=shm&sid1=104&sid2=234\"\n",
    "response = requests.get(URL, headers={'User-Agent':'Mozilla/5.0'})\n",
    "if response.status_code==200:\n",
    "  bsoup = BeautifulSoup(response.content, \"html.parser\", from_encoding='utf-8')\n",
    "  # print(bsoup)\n",
    "  # print(len(bsoup.select('div.list_body dt.photo a')))\n",
    "  url_list = bsoup.select('div.list_body dt.photo a')\n",
    "  for i in range(len(url_tag_list)):\n",
    "    crw_url = url_list[i][\"href\"]\n",
    "    Article_Crawler(url_list[i][\"href\"]) #crawing article with crawled url"
   ]
  },
  {
   "cell_type": "code",
   "execution_count": null,
   "metadata": {},
   "outputs": [],
   "source": [
    "def Article_Crawler(URL):\n",
    "  response = requests.get(URL, headers={'User-Agent':'Mozilla/5.0'})\n",
    "  if response.status_code==200:\n",
    "    bsoup = BeautifulSoup(response.content, 'lxml')"
   ]
  }
 ],
 "metadata": {
  "kernelspec": {
   "display_name": "Python 3",
   "language": "python",
   "name": "python3"
  },
  "language_info": {
   "codemirror_mode": {
    "name": "ipython",
    "version": 3
   },
   "file_extension": ".py",
   "mimetype": "text/x-python",
   "name": "python",
   "nbconvert_exporter": "python",
   "pygments_lexer": "ipython3",
   "version": "3.5.0"
  }
 },
 "nbformat": 4,
 "nbformat_minor": 4
}
